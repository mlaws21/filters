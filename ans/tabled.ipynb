{
 "cells": [
  {
   "cell_type": "markdown",
   "metadata": {},
   "source": [
    "# Py-tANS"
   ]
  },
  {
   "cell_type": "code",
   "execution_count": 2,
   "metadata": {},
   "outputs": [],
   "source": [
    "#####\n",
    "# Imports\n",
    "#####\n",
    "from collections import Counter\n",
    "from math import floor, ceil\n",
    "import random\n",
    "import numpy as np\n",
    "import matplotlib.pyplot as plt\n",
    "\n",
    "tableLog = 5\n",
    "tableSize = 1 << tableLog"
   ]
  },
  {
   "cell_type": "code",
   "execution_count": 3,
   "metadata": {},
   "outputs": [],
   "source": [
    "# Return the Index of the First Non-Zero Bit.\n",
    "def first1Index(val):\n",
    "    counter = 0\n",
    "    while val > 1:\n",
    "        counter += 1\n",
    "        val = val >> 1\n",
    "    return counter"
   ]
  },
  {
   "cell_type": "code",
   "execution_count": 4,
   "metadata": {},
   "outputs": [],
   "source": [
    "# Define how often a symbol is seen, total should equal the \n",
    "# table size.\n",
    "symbol_occurrences = {\"0\":10,\"1\":10, \"2\":12}\n"
   ]
  },
  {
   "cell_type": "code",
   "execution_count": 5,
   "metadata": {},
   "outputs": [],
   "source": [
    "####\n",
    "# Define the Initial Positions of States in StateList.\n",
    "####\n",
    "symbol_list = [symbol for symbol,occcurences in symbol_occurrences.items()]\n",
    "cumulative = [0 for _ in range(len(symbol_list)+2)]\n",
    "for u in range(1, len(symbol_occurrences.items())+ 1):\n",
    "    cumulative[u] = cumulative[u - 1] + list(symbol_occurrences.items())[u-1][1]\n",
    "cumulative[-1] = tableSize +1"
   ]
  },
  {
   "cell_type": "code",
   "execution_count": 6,
   "metadata": {},
   "outputs": [
    {
     "name": "stdout",
     "output_type": "stream",
     "text": [
      "['0', '1', '2']\n",
      "[0, 10, 20, 32, 33]\n"
     ]
    }
   ],
   "source": [
    "print(symbol_list) # all symbols\n",
    "print(cumulative) # cummulative counts doubly inclusive"
   ]
  },
  {
   "cell_type": "code",
   "execution_count": 7,
   "metadata": {},
   "outputs": [
    {
     "name": "stdout",
     "output_type": "stream",
     "text": [
      "23\n",
      "['0', '0', '1', '2', '2', '0', '1', '1', '2', '2', '0', '1', '2', '2', '0', '0', '1', '2', '2', '0', '1', '1', '2', '0', '0', '1', '2', '2', '0', '1', '1', '2']\n"
     ]
    }
   ],
   "source": [
    "#####\n",
    "# Spread Symbols to Create the States Table\n",
    "#####\n",
    "highThresh = tableSize - 1 # end of table\n",
    "stateTable = [0 for _ in range(tableSize)] # init empty table\n",
    "tableMask = tableSize - 1\n",
    "step = ((tableSize >> 1) + (tableSize >> 3) + 3)\n",
    "print(step) # why is step what it is??\n",
    "pos = 0\n",
    "for symbol, occurrences in symbol_occurrences.items():\n",
    "    for i in range(occurrences):\n",
    "        stateTable[pos] = symbol\n",
    "        pos = (pos + step) & tableMask # table mask is just modding by table size\n",
    "        while pos > highThresh: # ok this guy could be a bot you fs dont need this\n",
    "            print(\"here\") \n",
    "            position = (pos + step) & tableMask\n",
    "assert(pos == 0)\n",
    "print(stateTable) # this matters..."
   ]
  },
  {
   "cell_type": "code",
   "execution_count": 8,
   "metadata": {},
   "outputs": [],
   "source": [
    "# probs = [v / 32 for k, v in symbol_occurrences.items()]\n",
    "# freqs = np.random.multinomial(tableSize, probs, size=None)\n",
    "\n",
    "# stateTable = []\n",
    "# for i, ele in enumerate(freqs):\n",
    "#     stateTable.extend([str(i)] * ele)\n",
    "\n",
    "# np.random.shuffle(stateTable)\n",
    "# print(stateTable)"
   ]
  },
  {
   "cell_type": "code",
   "execution_count": null,
   "metadata": {},
   "outputs": [],
   "source": []
  },
  {
   "cell_type": "code",
   "execution_count": 9,
   "metadata": {},
   "outputs": [
    {
     "name": "stdout",
     "output_type": "stream",
     "text": [
      "[0, 0, 0, 0, 0, 0, 0, 0, 0, 0, 0, 0, 0, 0, 0, 0, 0, 0, 0, 0, 0, 0, 0, 0, 0, 0, 0, 0, 0, 0, 0, 0]\n",
      "[32, 33, 37, 42, 46, 47, 51, 55, 56, 60, 34, 38, 39, 43, 48, 52, 53, 57, 61, 62, 35, 36, 40, 41, 44, 45, 49, 50, 54, 58, 59, 63]\n"
     ]
    }
   ],
   "source": [
    "#####\n",
    "# Build Coding Table from State Table\n",
    "#####\n",
    "outputBits = [0 for _ in range(tableSize)]\n",
    "codingTable = [0 for _ in range(tableSize)]\n",
    "cumulative_cp = cumulative.copy()\n",
    "for i in range(tableSize):\n",
    "    s = stateTable[i]\n",
    "    index = symbol_list.index(s)\n",
    "    codingTable[cumulative_cp[index]] = tableSize + i\n",
    "    cumulative_cp[index] += 1\n",
    "    outputBits[i] = tableLog - first1Index(tableSize + i)\n",
    "    \n",
    "print(outputBits)\n",
    "print(codingTable)\n"
   ]
  },
  {
   "cell_type": "code",
   "execution_count": 10,
   "metadata": {},
   "outputs": [
    {
     "name": "stdout",
     "output_type": "stream",
     "text": [
      "{'0': {'deltaNbBits': 131032, 'deltaFindState': -10}, '1': {'deltaNbBits': 131032, 'deltaFindState': 0}, '2': {'deltaNbBits': 131024, 'deltaFindState': 8}}\n"
     ]
    }
   ],
   "source": [
    "#####\n",
    "# Create the Symbol Transformation Table\n",
    "#####\n",
    "total = 0\n",
    "symbolTT = {}\n",
    "for symbol, occurrences in symbol_occurrences.items():\n",
    "    symbolTT[symbol] = {}\n",
    "    if occurrences == 1:\n",
    "        symbolTT[symbol]['deltaNbBits'] = (tableLog << 16) - (1 << tableLog)\n",
    "        symbolTT[symbol]['deltaFindState'] = total - 1\n",
    "    elif occurrences > 0:\n",
    "        maxBitsOut = tableLog - first1Index(occurrences - 1)\n",
    "        minStatePlus = occurrences << maxBitsOut\n",
    "        symbolTT[symbol]['deltaNbBits'] = (maxBitsOut << 16) - minStatePlus\n",
    "        symbolTT[symbol]['deltaFindState'] = total - occurrences\n",
    "        total += occurrences\n",
    "print(symbolTT)"
   ]
  },
  {
   "cell_type": "code",
   "execution_count": 11,
   "metadata": {},
   "outputs": [],
   "source": [
    "# Output NbBits to a BitStream\n",
    "def outputNbBits(state, nbBits):\n",
    "    mask = (1 << nbBits) -1\n",
    "    little = state & mask\n",
    "    if nbBits >0:\n",
    "        string = \"{:b}\".format(little)\n",
    "    else:\n",
    "        return \"\"\n",
    "    while len(string) < nbBits:\n",
    "        string = \"0\" + string\n",
    "    return string"
   ]
  },
  {
   "cell_type": "code",
   "execution_count": 12,
   "metadata": {},
   "outputs": [],
   "source": [
    "# Encode a Symbol Using tANS, giving the current state, the symbol, and the bitstream and STT\n",
    "def encodeSymbol(symbol, state, bitStream, symbolTT):\n",
    "    symbolTT = symbolTT[symbol]\n",
    "    nbBitsOut = (state + symbolTT['deltaNbBits']) >> 16\n",
    "    bitStream += outputNbBits(state,nbBitsOut)\n",
    "    state = codingTable[(state >> nbBitsOut) + symbolTT['deltaFindState']]\n",
    "    return state, bitStream"
   ]
  },
  {
   "cell_type": "code",
   "execution_count": 13,
   "metadata": {},
   "outputs": [],
   "source": [
    "#####\n",
    "# Generate a Decoding Table\n",
    "#####\n",
    "decodeTable = [{} for _ in range(tableSize)]\n",
    "nextt = list(symbol_occurrences.items())\n",
    "for i in range(tableSize):\n",
    "    t = {}\n",
    "    t['symbol'] = stateTable[i]\n",
    "    index = symbol_list.index(t['symbol'])\n",
    "    x = nextt[index][1]\n",
    "    nextt[index] = (nextt[index][0], nextt[index][1] + 1)\n",
    "    t['nbBits'] = tableLog - first1Index(x)\n",
    "    t['newX'] = (x << t['nbBits']) - tableSize\n",
    "    decodeTable[i] = t"
   ]
  },
  {
   "cell_type": "code",
   "execution_count": 14,
   "metadata": {},
   "outputs": [],
   "source": [
    "# Convert Bits from Bitstream to the new State.\n",
    "def bitsToState(bitStream, nbBits):\n",
    "    bits = bitStream[-nbBits:]\n",
    "    rest = int(bits,2)\n",
    "    if nbBits == len(bitStream):\n",
    "        remaining = \"\"\n",
    "        return rest, remaining\n",
    "    remaining = bitStream[:-nbBits]\n",
    "    return rest, remaining"
   ]
  },
  {
   "cell_type": "code",
   "execution_count": 15,
   "metadata": {},
   "outputs": [],
   "source": [
    "# Return a Symbol + New State + Bitstream from the bitStream and State.\n",
    "def decodeSymbol(state, bitStream, stateT):\n",
    "    symbol = stateT[state]['symbol']\n",
    "    nbBits = stateT[state]['nbBits']\n",
    "    rest, bitStream = bitsToState(bitStream, nbBits)\n",
    "    state = stateT[state]['newX'] + rest\n",
    "    return symbol, state, bitStream"
   ]
  },
  {
   "cell_type": "code",
   "execution_count": 16,
   "metadata": {},
   "outputs": [],
   "source": [
    "# Split an Input String into a list of Symbols\n",
    "def split(string):\n",
    "    return [char for char in string]"
   ]
  },
  {
   "cell_type": "code",
   "execution_count": 17,
   "metadata": {},
   "outputs": [],
   "source": [
    "#####\n",
    "# Functions to Encode and Decode Streams of Data.\n",
    "#####\n",
    "def encodeData(inpu):\n",
    "    bitStream = \"\"\n",
    "    state, bitStream = encodeSymbol(inpu[0], 0, \"\", symbolTT)\n",
    "    bitStream = \"\"\n",
    "    for char in inpu:\n",
    "        state, bitStream = encodeSymbol(char, state, bitStream, symbolTT)\n",
    "    bitStream += outputNbBits(state - tableSize, tableLog) #Includes Current Bit\n",
    "    return bitStream\n",
    "\n",
    "def decodeData(bitStream):\n",
    "    output = []\n",
    "    state, bitStream = bitsToState(bitStream, tableLog)\n",
    "    while len(bitStream) > 0:\n",
    "        symbol, state, bitStream = decodeSymbol(state, bitStream, decodeTable)\n",
    "        output = [symbol] + output\n",
    "    return output"
   ]
  },
  {
   "cell_type": "code",
   "execution_count": 18,
   "metadata": {},
   "outputs": [],
   "source": [
    "# Test Encoding\n",
    "inpu = \"1102010120\"\n",
    "bitStream = encodeData(inpu)"
   ]
  },
  {
   "cell_type": "code",
   "execution_count": 19,
   "metadata": {},
   "outputs": [],
   "source": [
    "# Test Decoding\n",
    "output = decodeData(bitStream)"
   ]
  },
  {
   "cell_type": "code",
   "execution_count": 20,
   "metadata": {},
   "outputs": [
    {
     "name": "stdout",
     "output_type": "stream",
     "text": [
      "['1', '1', '0', '2', '0', '1', '0', '1', '2', '0']  = input\n",
      "001110001011000100001  = bitStream\n",
      "['1', '1', '0', '2', '0', '1', '0', '1', '2', '0']  = output\n"
     ]
    }
   ],
   "source": [
    "# Assert that input and Output are the same\n",
    "print(split(inpu), \" = input\")\n",
    "print(bitStream, \" = bitStream\")\n",
    "print(output, \" = output\")\n",
    "assert(split(inpu) == output)"
   ]
  },
  {
   "cell_type": "code",
   "execution_count": 25,
   "metadata": {},
   "outputs": [
    {
     "name": "stdout",
     "output_type": "stream",
     "text": [
      "21\n",
      "10\n"
     ]
    }
   ],
   "source": [
    "print(len(bitStream))\n",
    "print(len(inpu))"
   ]
  }
 ],
 "metadata": {
  "kernelspec": {
   "display_name": "ans-env",
   "language": "python",
   "name": "python3"
  },
  "language_info": {
   "codemirror_mode": {
    "name": "ipython",
    "version": 3
   },
   "file_extension": ".py",
   "mimetype": "text/x-python",
   "name": "python",
   "nbconvert_exporter": "python",
   "pygments_lexer": "ipython3",
   "version": "3.11.7"
  },
  "vscode": {
   "interpreter": {
    "hash": "dc2ebbcb906f5f847edb6962525c04a37ce66f0a00af335e1ca4946fcbaf7396"
   }
  }
 },
 "nbformat": 4,
 "nbformat_minor": 4
}
